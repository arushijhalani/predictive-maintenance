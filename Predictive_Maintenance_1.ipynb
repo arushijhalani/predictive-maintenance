{
  "cells": [
    {
      "cell_type": "markdown",
      "metadata": {
        "id": "91Uy7vU72Ha_"
      },
      "source": [
        "### **Pump Sensor Data**"
      ]
    },
    {
      "cell_type": "markdown",
      "metadata": {
        "id": "pLYonfj2B7b4"
      },
      "source": [
        "Source and Load Data"
      ]
    },
    {
      "cell_type": "code",
      "execution_count": null,
      "metadata": {
        "id": "jFT40JHH2EuQ",
        "colab": {
          "base_uri": "https://localhost:8080/"
        },
        "outputId": "82bfc70f-8d5d-49f5-c571-386ed041a12f"
      },
      "outputs": [
        {
          "output_type": "stream",
          "name": "stdout",
          "text": [
            "Mounted at /content/drive\n"
          ]
        }
      ],
      "source": [
        "from google.colab import drive\n",
        "import pandas as pd\n",
        "import zipfile\n",
        "\n",
        "# Mount Google Drive\n",
        "drive.mount('/content/drive')\n"
      ]
    },
    {
      "cell_type": "code",
      "execution_count": null,
      "metadata": {
        "id": "NQ0WZ0o78C3i"
      },
      "outputs": [],
      "source": [
        "# Load the CSV file into a DataFrame\n",
        "csv_file_path = '/content/drive/MyDrive/Major_Project/Data/sensor.csv'\n",
        "df = pd.read_csv(csv_file_path,index_col=0)\n"
      ]
    },
    {
      "cell_type": "code",
      "execution_count": null,
      "metadata": {
        "id": "mZJLrw0R275B",
        "colab": {
          "base_uri": "https://localhost:8080/"
        },
        "outputId": "9f1e9339-3e7c-4a9d-bcfe-90cef68a7f86"
      },
      "outputs": [
        {
          "output_type": "execute_result",
          "data": {
            "text/plain": [
              "(220320, 54)"
            ]
          },
          "metadata": {},
          "execution_count": 3
        }
      ],
      "source": [
        "df.shape"
      ]
    },
    {
      "cell_type": "code",
      "execution_count": null,
      "metadata": {
        "id": "D1-naDvWZVgU",
        "colab": {
          "base_uri": "https://localhost:8080/"
        },
        "outputId": "115d3e6b-a224-4ee1-868e-671c7cac7783"
      },
      "outputs": [
        {
          "output_type": "stream",
          "name": "stdout",
          "text": [
            "<class 'pandas.core.frame.DataFrame'>\n",
            "Index: 220320 entries, 0 to 220319\n",
            "Data columns (total 54 columns):\n",
            " #   Column          Non-Null Count   Dtype  \n",
            "---  ------          --------------   -----  \n",
            " 0   timestamp       220320 non-null  object \n",
            " 1   sensor_00       210112 non-null  float64\n",
            " 2   sensor_01       219951 non-null  float64\n",
            " 3   sensor_02       220301 non-null  float64\n",
            " 4   sensor_03       220301 non-null  float64\n",
            " 5   sensor_04       220301 non-null  float64\n",
            " 6   sensor_05       220301 non-null  float64\n",
            " 7   sensor_06       215522 non-null  float64\n",
            " 8   sensor_07       214869 non-null  float64\n",
            " 9   sensor_08       215213 non-null  float64\n",
            " 10  sensor_09       215725 non-null  float64\n",
            " 11  sensor_10       220301 non-null  float64\n",
            " 12  sensor_11       220301 non-null  float64\n",
            " 13  sensor_12       220301 non-null  float64\n",
            " 14  sensor_13       220301 non-null  float64\n",
            " 15  sensor_14       220299 non-null  float64\n",
            " 16  sensor_15       0 non-null       float64\n",
            " 17  sensor_16       220289 non-null  float64\n",
            " 18  sensor_17       220274 non-null  float64\n",
            " 19  sensor_18       220274 non-null  float64\n",
            " 20  sensor_19       220304 non-null  float64\n",
            " 21  sensor_20       220304 non-null  float64\n",
            " 22  sensor_21       220304 non-null  float64\n",
            " 23  sensor_22       220279 non-null  float64\n",
            " 24  sensor_23       220304 non-null  float64\n",
            " 25  sensor_24       220304 non-null  float64\n",
            " 26  sensor_25       220284 non-null  float64\n",
            " 27  sensor_26       220300 non-null  float64\n",
            " 28  sensor_27       220304 non-null  float64\n",
            " 29  sensor_28       220304 non-null  float64\n",
            " 30  sensor_29       220248 non-null  float64\n",
            " 31  sensor_30       220059 non-null  float64\n",
            " 32  sensor_31       220304 non-null  float64\n",
            " 33  sensor_32       220252 non-null  float64\n",
            " 34  sensor_33       220304 non-null  float64\n",
            " 35  sensor_34       220304 non-null  float64\n",
            " 36  sensor_35       220304 non-null  float64\n",
            " 37  sensor_36       220304 non-null  float64\n",
            " 38  sensor_37       220304 non-null  float64\n",
            " 39  sensor_38       220293 non-null  float64\n",
            " 40  sensor_39       220293 non-null  float64\n",
            " 41  sensor_40       220293 non-null  float64\n",
            " 42  sensor_41       220293 non-null  float64\n",
            " 43  sensor_42       220293 non-null  float64\n",
            " 44  sensor_43       220293 non-null  float64\n",
            " 45  sensor_44       220293 non-null  float64\n",
            " 46  sensor_45       220293 non-null  float64\n",
            " 47  sensor_46       220293 non-null  float64\n",
            " 48  sensor_47       220293 non-null  float64\n",
            " 49  sensor_48       220293 non-null  float64\n",
            " 50  sensor_49       220293 non-null  float64\n",
            " 51  sensor_50       143303 non-null  float64\n",
            " 52  sensor_51       204937 non-null  float64\n",
            " 53  machine_status  220320 non-null  object \n",
            "dtypes: float64(52), object(2)\n",
            "memory usage: 92.4+ MB\n"
          ]
        }
      ],
      "source": [
        "df.info()"
      ]
    },
    {
      "cell_type": "code",
      "execution_count": null,
      "metadata": {
        "id": "sJrv7j72Z5Dq"
      },
      "outputs": [],
      "source": [
        "y=df['machine_status']"
      ]
    },
    {
      "cell_type": "code",
      "execution_count": null,
      "metadata": {
        "id": "nb1pjD2eu0mY"
      },
      "outputs": [],
      "source": [
        "df.drop(['timestamp','sensor_15','sensor_50','machine_status'],axis=1,inplace=True)"
      ]
    },
    {
      "cell_type": "code",
      "source": [
        "df.drop(['timestamp','sensor_15','sensor_50'],axis=1,inplace=True)"
      ],
      "metadata": {
        "id": "f8q34ck6k3W1"
      },
      "execution_count": null,
      "outputs": []
    },
    {
      "cell_type": "code",
      "execution_count": null,
      "metadata": {
        "id": "H57WPLsJ49Ct",
        "colab": {
          "base_uri": "https://localhost:8080/"
        },
        "outputId": "e0dd312d-171b-4989-d914-5f1d9f8ec913"
      },
      "outputs": [
        {
          "output_type": "stream",
          "name": "stdout",
          "text": [
            "sensor_00         0\n",
            "sensor_01         0\n",
            "sensor_02         0\n",
            "sensor_03         0\n",
            "sensor_04         0\n",
            "sensor_05         0\n",
            "sensor_06         0\n",
            "sensor_07         0\n",
            "sensor_08         0\n",
            "sensor_09         0\n",
            "sensor_10         0\n",
            "sensor_11         0\n",
            "sensor_12         0\n",
            "sensor_13         0\n",
            "sensor_14         0\n",
            "sensor_16         0\n",
            "sensor_17         0\n",
            "sensor_18         0\n",
            "sensor_19         0\n",
            "sensor_20         0\n",
            "sensor_21         0\n",
            "sensor_22         0\n",
            "sensor_23         0\n",
            "sensor_24         0\n",
            "sensor_25         0\n",
            "sensor_26         0\n",
            "sensor_27         0\n",
            "sensor_28         0\n",
            "sensor_29         0\n",
            "sensor_30         0\n",
            "sensor_31         0\n",
            "sensor_32         0\n",
            "sensor_33         0\n",
            "sensor_34         0\n",
            "sensor_35         0\n",
            "sensor_36         0\n",
            "sensor_37         0\n",
            "sensor_38         0\n",
            "sensor_39         0\n",
            "sensor_40         0\n",
            "sensor_41         0\n",
            "sensor_42         0\n",
            "sensor_43         0\n",
            "sensor_44         0\n",
            "sensor_45         0\n",
            "sensor_46         0\n",
            "sensor_47         0\n",
            "sensor_48         0\n",
            "sensor_49         0\n",
            "sensor_51         0\n",
            "machine_status    0\n",
            "dtype: int64\n"
          ]
        }
      ],
      "source": [
        "#Missing values are filled with median value of respective columns\n",
        "for column in df.columns:\n",
        "\n",
        "    if df[column].isnull().any():\n",
        "\n",
        "        median_value = df[column].median()\n",
        "        df[column].fillna(median_value, inplace=True)\n",
        "\n",
        "print(df.isnull().sum())"
      ]
    },
    {
      "cell_type": "code",
      "execution_count": null,
      "metadata": {
        "id": "JYFrtu2QZj_3"
      },
      "outputs": [],
      "source": [
        "df.info()"
      ]
    },
    {
      "cell_type": "markdown",
      "metadata": {
        "id": "O4Io4-L9ZVVK"
      },
      "source": []
    },
    {
      "cell_type": "code",
      "execution_count": null,
      "metadata": {
        "id": "o8Ibe9Dcq2tg"
      },
      "outputs": [],
      "source": [
        "from sklearn.preprocessing import LabelEncoder\n",
        "encoder=LabelEncoder()\n",
        "y=encoder.fit_transform(y)\n"
      ]
    },
    {
      "cell_type": "code",
      "execution_count": null,
      "metadata": {
        "id": "nCsmct0g_IvU"
      },
      "outputs": [],
      "source": [
        "import numpy as np\n",
        "def min_max_normalization(data):\n",
        "    min_vals = np.min(data, axis=0)\n",
        "    max_vals = np.max(data, axis=0)\n",
        "    normalized_data = (data - min_vals) / (max_vals - min_vals)\n",
        "    return normalized_data\n",
        "\n",
        "df = min_max_normalization(df)\n"
      ]
    },
    {
      "cell_type": "code",
      "execution_count": null,
      "metadata": {
        "id": "O2Vq9QpS5F8Z"
      },
      "outputs": [],
      "source": [
        "df.isnull().sum()"
      ]
    },
    {
      "cell_type": "code",
      "execution_count": null,
      "metadata": {
        "id": "8FYsDKIgvGqO",
        "colab": {
          "base_uri": "https://localhost:8080/",
          "height": 255
        },
        "outputId": "1f99f66e-ff5d-49e3-e388-0cb04a2e36a9"
      },
      "outputs": [
        {
          "output_type": "execute_result",
          "data": {
            "text/plain": [
              "   sensor_00  sensor_01  sensor_02  sensor_03  sensor_04  sensor_05  \\\n",
              "0   0.967194   0.830145   0.876660   0.884816   0.792242   0.764598   \n",
              "1   0.967194   0.830145   0.876660   0.884816   0.792242   0.764598   \n",
              "2   0.959089   0.834736   0.876660   0.890052   0.797904   0.735461   \n",
              "3   0.965264   0.830145   0.874763   0.890052   0.784402   0.769891   \n",
              "4   0.959475   0.830910   0.876660   0.890052   0.794855   0.765891   \n",
              "\n",
              "   sensor_06  sensor_07  sensor_08  sensor_09  ...  sensor_41  sensor_42  \\\n",
              "0   0.602472   0.683630   0.638905   0.602141  ...   0.025424   0.027367   \n",
              "1   0.602472   0.683630   0.638905   0.602141  ...   0.025424   0.027367   \n",
              "2   0.598568   0.679645   0.640988   0.600405  ...   0.024120   0.027367   \n",
              "3   0.598243   0.688535   0.644259   0.603299  ...   0.024120   0.026627   \n",
              "4   0.599870   0.687002   0.644259   0.603299  ...   0.025424   0.026627   \n",
              "\n",
              "   sensor_43  sensor_44  sensor_45  sensor_46  sensor_47  sensor_48  \\\n",
              "0   0.045424   0.014256   0.133858   0.071489   0.039791   0.245946   \n",
              "1   0.045424   0.014256   0.133858   0.071489   0.039791   0.245946   \n",
              "2   0.044746   0.013959   0.132874   0.072330   0.039791   0.242162   \n",
              "3   0.042712   0.013662   0.130905   0.072330   0.039791   0.242162   \n",
              "4   0.044068   0.013365   0.131890   0.074012   0.041885   0.246487   \n",
              "\n",
              "   sensor_49  sensor_51  \n",
              "0   0.093853   0.178571  \n",
              "1   0.093853   0.178571  \n",
              "2   0.092531   0.180952  \n",
              "3   0.091870   0.180357  \n",
              "4   0.091210   0.178571  \n",
              "\n",
              "[5 rows x 50 columns]"
            ],
            "text/html": [
              "\n",
              "  <div id=\"df-9de79ed7-28df-4e3f-8d2d-5fccb63f75db\" class=\"colab-df-container\">\n",
              "    <div>\n",
              "<style scoped>\n",
              "    .dataframe tbody tr th:only-of-type {\n",
              "        vertical-align: middle;\n",
              "    }\n",
              "\n",
              "    .dataframe tbody tr th {\n",
              "        vertical-align: top;\n",
              "    }\n",
              "\n",
              "    .dataframe thead th {\n",
              "        text-align: right;\n",
              "    }\n",
              "</style>\n",
              "<table border=\"1\" class=\"dataframe\">\n",
              "  <thead>\n",
              "    <tr style=\"text-align: right;\">\n",
              "      <th></th>\n",
              "      <th>sensor_00</th>\n",
              "      <th>sensor_01</th>\n",
              "      <th>sensor_02</th>\n",
              "      <th>sensor_03</th>\n",
              "      <th>sensor_04</th>\n",
              "      <th>sensor_05</th>\n",
              "      <th>sensor_06</th>\n",
              "      <th>sensor_07</th>\n",
              "      <th>sensor_08</th>\n",
              "      <th>sensor_09</th>\n",
              "      <th>...</th>\n",
              "      <th>sensor_41</th>\n",
              "      <th>sensor_42</th>\n",
              "      <th>sensor_43</th>\n",
              "      <th>sensor_44</th>\n",
              "      <th>sensor_45</th>\n",
              "      <th>sensor_46</th>\n",
              "      <th>sensor_47</th>\n",
              "      <th>sensor_48</th>\n",
              "      <th>sensor_49</th>\n",
              "      <th>sensor_51</th>\n",
              "    </tr>\n",
              "  </thead>\n",
              "  <tbody>\n",
              "    <tr>\n",
              "      <th>0</th>\n",
              "      <td>0.967194</td>\n",
              "      <td>0.830145</td>\n",
              "      <td>0.876660</td>\n",
              "      <td>0.884816</td>\n",
              "      <td>0.792242</td>\n",
              "      <td>0.764598</td>\n",
              "      <td>0.602472</td>\n",
              "      <td>0.683630</td>\n",
              "      <td>0.638905</td>\n",
              "      <td>0.602141</td>\n",
              "      <td>...</td>\n",
              "      <td>0.025424</td>\n",
              "      <td>0.027367</td>\n",
              "      <td>0.045424</td>\n",
              "      <td>0.014256</td>\n",
              "      <td>0.133858</td>\n",
              "      <td>0.071489</td>\n",
              "      <td>0.039791</td>\n",
              "      <td>0.245946</td>\n",
              "      <td>0.093853</td>\n",
              "      <td>0.178571</td>\n",
              "    </tr>\n",
              "    <tr>\n",
              "      <th>1</th>\n",
              "      <td>0.967194</td>\n",
              "      <td>0.830145</td>\n",
              "      <td>0.876660</td>\n",
              "      <td>0.884816</td>\n",
              "      <td>0.792242</td>\n",
              "      <td>0.764598</td>\n",
              "      <td>0.602472</td>\n",
              "      <td>0.683630</td>\n",
              "      <td>0.638905</td>\n",
              "      <td>0.602141</td>\n",
              "      <td>...</td>\n",
              "      <td>0.025424</td>\n",
              "      <td>0.027367</td>\n",
              "      <td>0.045424</td>\n",
              "      <td>0.014256</td>\n",
              "      <td>0.133858</td>\n",
              "      <td>0.071489</td>\n",
              "      <td>0.039791</td>\n",
              "      <td>0.245946</td>\n",
              "      <td>0.093853</td>\n",
              "      <td>0.178571</td>\n",
              "    </tr>\n",
              "    <tr>\n",
              "      <th>2</th>\n",
              "      <td>0.959089</td>\n",
              "      <td>0.834736</td>\n",
              "      <td>0.876660</td>\n",
              "      <td>0.890052</td>\n",
              "      <td>0.797904</td>\n",
              "      <td>0.735461</td>\n",
              "      <td>0.598568</td>\n",
              "      <td>0.679645</td>\n",
              "      <td>0.640988</td>\n",
              "      <td>0.600405</td>\n",
              "      <td>...</td>\n",
              "      <td>0.024120</td>\n",
              "      <td>0.027367</td>\n",
              "      <td>0.044746</td>\n",
              "      <td>0.013959</td>\n",
              "      <td>0.132874</td>\n",
              "      <td>0.072330</td>\n",
              "      <td>0.039791</td>\n",
              "      <td>0.242162</td>\n",
              "      <td>0.092531</td>\n",
              "      <td>0.180952</td>\n",
              "    </tr>\n",
              "    <tr>\n",
              "      <th>3</th>\n",
              "      <td>0.965264</td>\n",
              "      <td>0.830145</td>\n",
              "      <td>0.874763</td>\n",
              "      <td>0.890052</td>\n",
              "      <td>0.784402</td>\n",
              "      <td>0.769891</td>\n",
              "      <td>0.598243</td>\n",
              "      <td>0.688535</td>\n",
              "      <td>0.644259</td>\n",
              "      <td>0.603299</td>\n",
              "      <td>...</td>\n",
              "      <td>0.024120</td>\n",
              "      <td>0.026627</td>\n",
              "      <td>0.042712</td>\n",
              "      <td>0.013662</td>\n",
              "      <td>0.130905</td>\n",
              "      <td>0.072330</td>\n",
              "      <td>0.039791</td>\n",
              "      <td>0.242162</td>\n",
              "      <td>0.091870</td>\n",
              "      <td>0.180357</td>\n",
              "    </tr>\n",
              "    <tr>\n",
              "      <th>4</th>\n",
              "      <td>0.959475</td>\n",
              "      <td>0.830910</td>\n",
              "      <td>0.876660</td>\n",
              "      <td>0.890052</td>\n",
              "      <td>0.794855</td>\n",
              "      <td>0.765891</td>\n",
              "      <td>0.599870</td>\n",
              "      <td>0.687002</td>\n",
              "      <td>0.644259</td>\n",
              "      <td>0.603299</td>\n",
              "      <td>...</td>\n",
              "      <td>0.025424</td>\n",
              "      <td>0.026627</td>\n",
              "      <td>0.044068</td>\n",
              "      <td>0.013365</td>\n",
              "      <td>0.131890</td>\n",
              "      <td>0.074012</td>\n",
              "      <td>0.041885</td>\n",
              "      <td>0.246487</td>\n",
              "      <td>0.091210</td>\n",
              "      <td>0.178571</td>\n",
              "    </tr>\n",
              "  </tbody>\n",
              "</table>\n",
              "<p>5 rows × 50 columns</p>\n",
              "</div>\n",
              "    <div class=\"colab-df-buttons\">\n",
              "\n",
              "  <div class=\"colab-df-container\">\n",
              "    <button class=\"colab-df-convert\" onclick=\"convertToInteractive('df-9de79ed7-28df-4e3f-8d2d-5fccb63f75db')\"\n",
              "            title=\"Convert this dataframe to an interactive table.\"\n",
              "            style=\"display:none;\">\n",
              "\n",
              "  <svg xmlns=\"http://www.w3.org/2000/svg\" height=\"24px\" viewBox=\"0 -960 960 960\">\n",
              "    <path d=\"M120-120v-720h720v720H120Zm60-500h600v-160H180v160Zm220 220h160v-160H400v160Zm0 220h160v-160H400v160ZM180-400h160v-160H180v160Zm440 0h160v-160H620v160ZM180-180h160v-160H180v160Zm440 0h160v-160H620v160Z\"/>\n",
              "  </svg>\n",
              "    </button>\n",
              "\n",
              "  <style>\n",
              "    .colab-df-container {\n",
              "      display:flex;\n",
              "      gap: 12px;\n",
              "    }\n",
              "\n",
              "    .colab-df-convert {\n",
              "      background-color: #E8F0FE;\n",
              "      border: none;\n",
              "      border-radius: 50%;\n",
              "      cursor: pointer;\n",
              "      display: none;\n",
              "      fill: #1967D2;\n",
              "      height: 32px;\n",
              "      padding: 0 0 0 0;\n",
              "      width: 32px;\n",
              "    }\n",
              "\n",
              "    .colab-df-convert:hover {\n",
              "      background-color: #E2EBFA;\n",
              "      box-shadow: 0px 1px 2px rgba(60, 64, 67, 0.3), 0px 1px 3px 1px rgba(60, 64, 67, 0.15);\n",
              "      fill: #174EA6;\n",
              "    }\n",
              "\n",
              "    .colab-df-buttons div {\n",
              "      margin-bottom: 4px;\n",
              "    }\n",
              "\n",
              "    [theme=dark] .colab-df-convert {\n",
              "      background-color: #3B4455;\n",
              "      fill: #D2E3FC;\n",
              "    }\n",
              "\n",
              "    [theme=dark] .colab-df-convert:hover {\n",
              "      background-color: #434B5C;\n",
              "      box-shadow: 0px 1px 3px 1px rgba(0, 0, 0, 0.15);\n",
              "      filter: drop-shadow(0px 1px 2px rgba(0, 0, 0, 0.3));\n",
              "      fill: #FFFFFF;\n",
              "    }\n",
              "  </style>\n",
              "\n",
              "    <script>\n",
              "      const buttonEl =\n",
              "        document.querySelector('#df-9de79ed7-28df-4e3f-8d2d-5fccb63f75db button.colab-df-convert');\n",
              "      buttonEl.style.display =\n",
              "        google.colab.kernel.accessAllowed ? 'block' : 'none';\n",
              "\n",
              "      async function convertToInteractive(key) {\n",
              "        const element = document.querySelector('#df-9de79ed7-28df-4e3f-8d2d-5fccb63f75db');\n",
              "        const dataTable =\n",
              "          await google.colab.kernel.invokeFunction('convertToInteractive',\n",
              "                                                    [key], {});\n",
              "        if (!dataTable) return;\n",
              "\n",
              "        const docLinkHtml = 'Like what you see? Visit the ' +\n",
              "          '<a target=\"_blank\" href=https://colab.research.google.com/notebooks/data_table.ipynb>data table notebook</a>'\n",
              "          + ' to learn more about interactive tables.';\n",
              "        element.innerHTML = '';\n",
              "        dataTable['output_type'] = 'display_data';\n",
              "        await google.colab.output.renderOutput(dataTable, element);\n",
              "        const docLink = document.createElement('div');\n",
              "        docLink.innerHTML = docLinkHtml;\n",
              "        element.appendChild(docLink);\n",
              "      }\n",
              "    </script>\n",
              "  </div>\n",
              "\n",
              "\n",
              "<div id=\"df-5bcb1c9c-137e-4dc7-9f22-70b5dd0d28c4\">\n",
              "  <button class=\"colab-df-quickchart\" onclick=\"quickchart('df-5bcb1c9c-137e-4dc7-9f22-70b5dd0d28c4')\"\n",
              "            title=\"Suggest charts\"\n",
              "            style=\"display:none;\">\n",
              "\n",
              "<svg xmlns=\"http://www.w3.org/2000/svg\" height=\"24px\"viewBox=\"0 0 24 24\"\n",
              "     width=\"24px\">\n",
              "    <g>\n",
              "        <path d=\"M19 3H5c-1.1 0-2 .9-2 2v14c0 1.1.9 2 2 2h14c1.1 0 2-.9 2-2V5c0-1.1-.9-2-2-2zM9 17H7v-7h2v7zm4 0h-2V7h2v10zm4 0h-2v-4h2v4z\"/>\n",
              "    </g>\n",
              "</svg>\n",
              "  </button>\n",
              "\n",
              "<style>\n",
              "  .colab-df-quickchart {\n",
              "      --bg-color: #E8F0FE;\n",
              "      --fill-color: #1967D2;\n",
              "      --hover-bg-color: #E2EBFA;\n",
              "      --hover-fill-color: #174EA6;\n",
              "      --disabled-fill-color: #AAA;\n",
              "      --disabled-bg-color: #DDD;\n",
              "  }\n",
              "\n",
              "  [theme=dark] .colab-df-quickchart {\n",
              "      --bg-color: #3B4455;\n",
              "      --fill-color: #D2E3FC;\n",
              "      --hover-bg-color: #434B5C;\n",
              "      --hover-fill-color: #FFFFFF;\n",
              "      --disabled-bg-color: #3B4455;\n",
              "      --disabled-fill-color: #666;\n",
              "  }\n",
              "\n",
              "  .colab-df-quickchart {\n",
              "    background-color: var(--bg-color);\n",
              "    border: none;\n",
              "    border-radius: 50%;\n",
              "    cursor: pointer;\n",
              "    display: none;\n",
              "    fill: var(--fill-color);\n",
              "    height: 32px;\n",
              "    padding: 0;\n",
              "    width: 32px;\n",
              "  }\n",
              "\n",
              "  .colab-df-quickchart:hover {\n",
              "    background-color: var(--hover-bg-color);\n",
              "    box-shadow: 0 1px 2px rgba(60, 64, 67, 0.3), 0 1px 3px 1px rgba(60, 64, 67, 0.15);\n",
              "    fill: var(--button-hover-fill-color);\n",
              "  }\n",
              "\n",
              "  .colab-df-quickchart-complete:disabled,\n",
              "  .colab-df-quickchart-complete:disabled:hover {\n",
              "    background-color: var(--disabled-bg-color);\n",
              "    fill: var(--disabled-fill-color);\n",
              "    box-shadow: none;\n",
              "  }\n",
              "\n",
              "  .colab-df-spinner {\n",
              "    border: 2px solid var(--fill-color);\n",
              "    border-color: transparent;\n",
              "    border-bottom-color: var(--fill-color);\n",
              "    animation:\n",
              "      spin 1s steps(1) infinite;\n",
              "  }\n",
              "\n",
              "  @keyframes spin {\n",
              "    0% {\n",
              "      border-color: transparent;\n",
              "      border-bottom-color: var(--fill-color);\n",
              "      border-left-color: var(--fill-color);\n",
              "    }\n",
              "    20% {\n",
              "      border-color: transparent;\n",
              "      border-left-color: var(--fill-color);\n",
              "      border-top-color: var(--fill-color);\n",
              "    }\n",
              "    30% {\n",
              "      border-color: transparent;\n",
              "      border-left-color: var(--fill-color);\n",
              "      border-top-color: var(--fill-color);\n",
              "      border-right-color: var(--fill-color);\n",
              "    }\n",
              "    40% {\n",
              "      border-color: transparent;\n",
              "      border-right-color: var(--fill-color);\n",
              "      border-top-color: var(--fill-color);\n",
              "    }\n",
              "    60% {\n",
              "      border-color: transparent;\n",
              "      border-right-color: var(--fill-color);\n",
              "    }\n",
              "    80% {\n",
              "      border-color: transparent;\n",
              "      border-right-color: var(--fill-color);\n",
              "      border-bottom-color: var(--fill-color);\n",
              "    }\n",
              "    90% {\n",
              "      border-color: transparent;\n",
              "      border-bottom-color: var(--fill-color);\n",
              "    }\n",
              "  }\n",
              "</style>\n",
              "\n",
              "  <script>\n",
              "    async function quickchart(key) {\n",
              "      const quickchartButtonEl =\n",
              "        document.querySelector('#' + key + ' button');\n",
              "      quickchartButtonEl.disabled = true;  // To prevent multiple clicks.\n",
              "      quickchartButtonEl.classList.add('colab-df-spinner');\n",
              "      try {\n",
              "        const charts = await google.colab.kernel.invokeFunction(\n",
              "            'suggestCharts', [key], {});\n",
              "      } catch (error) {\n",
              "        console.error('Error during call to suggestCharts:', error);\n",
              "      }\n",
              "      quickchartButtonEl.classList.remove('colab-df-spinner');\n",
              "      quickchartButtonEl.classList.add('colab-df-quickchart-complete');\n",
              "    }\n",
              "    (() => {\n",
              "      let quickchartButtonEl =\n",
              "        document.querySelector('#df-5bcb1c9c-137e-4dc7-9f22-70b5dd0d28c4 button');\n",
              "      quickchartButtonEl.style.display =\n",
              "        google.colab.kernel.accessAllowed ? 'block' : 'none';\n",
              "    })();\n",
              "  </script>\n",
              "</div>\n",
              "\n",
              "    </div>\n",
              "  </div>\n"
            ],
            "application/vnd.google.colaboratory.intrinsic+json": {
              "type": "dataframe",
              "variable_name": "df"
            }
          },
          "metadata": {},
          "execution_count": 11
        }
      ],
      "source": [
        "df.head()"
      ]
    },
    {
      "cell_type": "markdown",
      "metadata": {
        "id": "ig9YwhoE3-qj"
      },
      "source": [
        "10 Imp features"
      ]
    },
    {
      "cell_type": "markdown",
      "metadata": {
        "id": "uA8GR0cO7Q1i"
      },
      "source": [
        "Using RandomForestclassifier"
      ]
    },
    {
      "cell_type": "code",
      "execution_count": null,
      "metadata": {
        "id": "a9Vgsw4VCKTj"
      },
      "outputs": [],
      "source": [
        "print(df.shape)\n",
        "y.shape"
      ]
    },
    {
      "cell_type": "code",
      "source": [
        "from sklearn.model_selection import train_test_split\n",
        "x_train_all, x_test_all, y_train_all, y_test_all = train_test_split(df,y, test_size = 0.3,shuffle=True)\n",
        "from sklearn.ensemble import RandomForestClassifier\n",
        "model_all = RandomForestClassifier(n_estimators=200, min_samples_split=25, max_depth=14, max_features=10)\n",
        "model_all.fit(x_train_all,y_train_all)\n"
      ],
      "metadata": {
        "colab": {
          "base_uri": "https://localhost:8080/",
          "height": 91
        },
        "id": "GjhD0R8tZzR3",
        "outputId": "f90b9009-7d75-4339-ca89-510b47a4b622"
      },
      "execution_count": null,
      "outputs": [
        {
          "output_type": "execute_result",
          "data": {
            "text/plain": [
              "RandomForestClassifier(max_depth=14, max_features=10, min_samples_split=25,\n",
              "                       n_estimators=200)"
            ],
            "text/html": [
              "<style>#sk-container-id-1 {color: black;background-color: white;}#sk-container-id-1 pre{padding: 0;}#sk-container-id-1 div.sk-toggleable {background-color: white;}#sk-container-id-1 label.sk-toggleable__label {cursor: pointer;display: block;width: 100%;margin-bottom: 0;padding: 0.3em;box-sizing: border-box;text-align: center;}#sk-container-id-1 label.sk-toggleable__label-arrow:before {content: \"▸\";float: left;margin-right: 0.25em;color: #696969;}#sk-container-id-1 label.sk-toggleable__label-arrow:hover:before {color: black;}#sk-container-id-1 div.sk-estimator:hover label.sk-toggleable__label-arrow:before {color: black;}#sk-container-id-1 div.sk-toggleable__content {max-height: 0;max-width: 0;overflow: hidden;text-align: left;background-color: #f0f8ff;}#sk-container-id-1 div.sk-toggleable__content pre {margin: 0.2em;color: black;border-radius: 0.25em;background-color: #f0f8ff;}#sk-container-id-1 input.sk-toggleable__control:checked~div.sk-toggleable__content {max-height: 200px;max-width: 100%;overflow: auto;}#sk-container-id-1 input.sk-toggleable__control:checked~label.sk-toggleable__label-arrow:before {content: \"▾\";}#sk-container-id-1 div.sk-estimator input.sk-toggleable__control:checked~label.sk-toggleable__label {background-color: #d4ebff;}#sk-container-id-1 div.sk-label input.sk-toggleable__control:checked~label.sk-toggleable__label {background-color: #d4ebff;}#sk-container-id-1 input.sk-hidden--visually {border: 0;clip: rect(1px 1px 1px 1px);clip: rect(1px, 1px, 1px, 1px);height: 1px;margin: -1px;overflow: hidden;padding: 0;position: absolute;width: 1px;}#sk-container-id-1 div.sk-estimator {font-family: monospace;background-color: #f0f8ff;border: 1px dotted black;border-radius: 0.25em;box-sizing: border-box;margin-bottom: 0.5em;}#sk-container-id-1 div.sk-estimator:hover {background-color: #d4ebff;}#sk-container-id-1 div.sk-parallel-item::after {content: \"\";width: 100%;border-bottom: 1px solid gray;flex-grow: 1;}#sk-container-id-1 div.sk-label:hover label.sk-toggleable__label {background-color: #d4ebff;}#sk-container-id-1 div.sk-serial::before {content: \"\";position: absolute;border-left: 1px solid gray;box-sizing: border-box;top: 0;bottom: 0;left: 50%;z-index: 0;}#sk-container-id-1 div.sk-serial {display: flex;flex-direction: column;align-items: center;background-color: white;padding-right: 0.2em;padding-left: 0.2em;position: relative;}#sk-container-id-1 div.sk-item {position: relative;z-index: 1;}#sk-container-id-1 div.sk-parallel {display: flex;align-items: stretch;justify-content: center;background-color: white;position: relative;}#sk-container-id-1 div.sk-item::before, #sk-container-id-1 div.sk-parallel-item::before {content: \"\";position: absolute;border-left: 1px solid gray;box-sizing: border-box;top: 0;bottom: 0;left: 50%;z-index: -1;}#sk-container-id-1 div.sk-parallel-item {display: flex;flex-direction: column;z-index: 1;position: relative;background-color: white;}#sk-container-id-1 div.sk-parallel-item:first-child::after {align-self: flex-end;width: 50%;}#sk-container-id-1 div.sk-parallel-item:last-child::after {align-self: flex-start;width: 50%;}#sk-container-id-1 div.sk-parallel-item:only-child::after {width: 0;}#sk-container-id-1 div.sk-dashed-wrapped {border: 1px dashed gray;margin: 0 0.4em 0.5em 0.4em;box-sizing: border-box;padding-bottom: 0.4em;background-color: white;}#sk-container-id-1 div.sk-label label {font-family: monospace;font-weight: bold;display: inline-block;line-height: 1.2em;}#sk-container-id-1 div.sk-label-container {text-align: center;}#sk-container-id-1 div.sk-container {/* jupyter's `normalize.less` sets `[hidden] { display: none; }` but bootstrap.min.css set `[hidden] { display: none !important; }` so we also need the `!important` here to be able to override the default hidden behavior on the sphinx rendered scikit-learn.org. See: https://github.com/scikit-learn/scikit-learn/issues/21755 */display: inline-block !important;position: relative;}#sk-container-id-1 div.sk-text-repr-fallback {display: none;}</style><div id=\"sk-container-id-1\" class=\"sk-top-container\"><div class=\"sk-text-repr-fallback\"><pre>RandomForestClassifier(max_depth=14, max_features=10, min_samples_split=25,\n",
              "                       n_estimators=200)</pre><b>In a Jupyter environment, please rerun this cell to show the HTML representation or trust the notebook. <br />On GitHub, the HTML representation is unable to render, please try loading this page with nbviewer.org.</b></div><div class=\"sk-container\" hidden><div class=\"sk-item\"><div class=\"sk-estimator sk-toggleable\"><input class=\"sk-toggleable__control sk-hidden--visually\" id=\"sk-estimator-id-1\" type=\"checkbox\" checked><label for=\"sk-estimator-id-1\" class=\"sk-toggleable__label sk-toggleable__label-arrow\">RandomForestClassifier</label><div class=\"sk-toggleable__content\"><pre>RandomForestClassifier(max_depth=14, max_features=10, min_samples_split=25,\n",
              "                       n_estimators=200)</pre></div></div></div></div></div>"
            ]
          },
          "metadata": {},
          "execution_count": 18
        }
      ]
    },
    {
      "cell_type": "code",
      "source": [
        "from sklearn.metrics import accuracy_score, f1_score, recall_score, confusion_matrix, classification_report\n",
        "\n",
        "# Step 1: Make predictions on the test set\n",
        "y_pred_all = model_all.predict(x_test_all)\n",
        "\n",
        "# Step 2: Calculate evaluation metrics\n",
        "accuracy = accuracy_score(y_test_all, y_pred_all)\n",
        "f1_micro = f1_score(y_test_all, y_pred_all, average='micro')\n",
        "f1_macro = f1_score(y_test_all, y_pred_all, average='macro')\n",
        "f1_weighted = f1_score(y_test_all, y_pred_all, average='weighted')\n",
        "recall = recall_score(y_test_all, y_pred_all, average='weighted')\n",
        "conf_matrix = confusion_matrix(y_test_all, y_pred_all)\n",
        "class_report = classification_report(y_test_all, y_pred_all)\n",
        "\n",
        "# Step 3: Print the results\n",
        "print(\"Accuracy:\", accuracy)\n",
        "print(\"F1 Score (Micro):\", f1_micro)\n",
        "print(\"F1 Score (Macro):\", f1_macro)\n",
        "print(\"F1 Score (Weighted):\", f1_weighted)\n",
        "print(\"Recall (Weighted):\", recall)\n",
        "print(\"Confusion Matrix:\\n\", conf_matrix)\n",
        "print(\"Classification Report:\\n\", class_report)\n"
      ],
      "metadata": {
        "colab": {
          "base_uri": "https://localhost:8080/"
        },
        "id": "FMNM_XnUbLHu",
        "outputId": "8b0b7b12-9972-4144-abf5-6ecfa5a8f185"
      },
      "execution_count": null,
      "outputs": [
        {
          "output_type": "stream",
          "name": "stdout",
          "text": [
            "Accuracy: 0.9998789639312515\n",
            "F1 Score (Micro): 0.9998789639312515\n",
            "F1 Score (Macro): 0.6663389967583705\n",
            "F1 Score (Weighted): 0.9998714259217983\n",
            "Recall (Weighted): 0.9998789639312515\n",
            "Confusion Matrix:\n",
            " [[    0     0     1]\n",
            " [    0 61774     5]\n",
            " [    0     2  4314]]\n",
            "Classification Report:\n",
            "               precision    recall  f1-score   support\n",
            "\n",
            "           0       0.00      0.00      0.00         1\n",
            "           1       1.00      1.00      1.00     61779\n",
            "           2       1.00      1.00      1.00      4316\n",
            "\n",
            "    accuracy                           1.00     66096\n",
            "   macro avg       0.67      0.67      0.67     66096\n",
            "weighted avg       1.00      1.00      1.00     66096\n",
            "\n"
          ]
        },
        {
          "output_type": "stream",
          "name": "stderr",
          "text": [
            "/usr/local/lib/python3.10/dist-packages/sklearn/metrics/_classification.py:1344: UndefinedMetricWarning: Precision and F-score are ill-defined and being set to 0.0 in labels with no predicted samples. Use `zero_division` parameter to control this behavior.\n",
            "  _warn_prf(average, modifier, msg_start, len(result))\n",
            "/usr/local/lib/python3.10/dist-packages/sklearn/metrics/_classification.py:1344: UndefinedMetricWarning: Precision and F-score are ill-defined and being set to 0.0 in labels with no predicted samples. Use `zero_division` parameter to control this behavior.\n",
            "  _warn_prf(average, modifier, msg_start, len(result))\n",
            "/usr/local/lib/python3.10/dist-packages/sklearn/metrics/_classification.py:1344: UndefinedMetricWarning: Precision and F-score are ill-defined and being set to 0.0 in labels with no predicted samples. Use `zero_division` parameter to control this behavior.\n",
            "  _warn_prf(average, modifier, msg_start, len(result))\n"
          ]
        }
      ]
    },
    {
      "cell_type": "code",
      "source": [
        "import matplotlib.pyplot as plt\n",
        "import seaborn as sns\n",
        "\n",
        "# Step 1: Calculate the confusion matrix\n",
        "conf_matrix = confusion_matrix(y_test_all, y_pred_all)\n",
        "\n",
        "# Step 2: Plot the confusion matrix\n",
        "plt.figure(figsize=(8, 6))\n",
        "sns.heatmap(conf_matrix, annot=True, fmt='d', cmap='Blues', cbar=False)\n",
        "plt.title('Confusion Matrix')\n",
        "plt.xlabel('Predicted Labels')\n",
        "plt.ylabel('True Labels')\n",
        "plt.show()\n"
      ],
      "metadata": {
        "colab": {
          "base_uri": "https://localhost:8080/",
          "height": 564
        },
        "id": "6jB1jGpEbL32",
        "outputId": "0502188f-cf17-420f-b5d4-7c2543ce1474"
      },
      "execution_count": null,
      "outputs": [
        {
          "output_type": "display_data",
          "data": {
            "text/plain": [
              "<Figure size 800x600 with 1 Axes>"
            ],
            "image/png": "[encoded data removed]"
          },
          "metadata": {}
        }
      ]
    },
    {
      "cell_type": "code",
      "execution_count": null,
      "metadata": {
        "id": "sqVF83MRJNda",
        "colab": {
          "base_uri": "https://localhost:8080/"
        },
        "outputId": "ccaea8f7-82af-4631-e4c9-9c2d261b3b56"
      },
      "outputs": [
        {
          "output_type": "stream",
          "name": "stdout",
          "text": [
            "Collecting imblearn\n",
            "  Downloading imblearn-0.0-py2.py3-none-any.whl (1.9 kB)\n",
            "Requirement already satisfied: imbalanced-learn in /usr/local/lib/python3.10/dist-packages (from imblearn) (0.10.1)\n",
            "Requirement already satisfied: numpy>=1.17.3 in /usr/local/lib/python3.10/dist-packages (from imbalanced-learn->imblearn) (1.25.2)\n",
            "Requirement already satisfied: scipy>=1.3.2 in /usr/local/lib/python3.10/dist-packages (from imbalanced-learn->imblearn) (1.11.4)\n",
            "Requirement already satisfied: scikit-learn>=1.0.2 in /usr/local/lib/python3.10/dist-packages (from imbalanced-learn->imblearn) (1.2.2)\n",
            "Requirement already satisfied: joblib>=1.1.1 in /usr/local/lib/python3.10/dist-packages (from imbalanced-learn->imblearn) (1.4.2)\n",
            "Requirement already satisfied: threadpoolctl>=2.0.0 in /usr/local/lib/python3.10/dist-packages (from imbalanced-learn->imblearn) (3.5.0)\n",
            "Installing collected packages: imblearn\n",
            "Successfully installed imblearn-0.0\n"
          ]
        }
      ],
      "source": [
        "!pip install imblearn"
      ]
    },
    {
      "cell_type": "code",
      "execution_count": null,
      "metadata": {
        "id": "bNH5UjwwRR7K"
      },
      "outputs": [],
      "source": [
        "from imblearn.over_sampling import SMOTE\n",
        "smt=SMOTE()\n",
        "x_sm,y_sm=smt.fit_resample(df,y)"
      ]
    },
    {
      "cell_type": "code",
      "source": [
        "from imblearn.over_sampling import SMOTE\n",
        "smt=SMOTE()\n",
        "x_sm,y_sm=smt.fit_resample(df.drop(['machine_status'],axis = 1),y)"
      ],
      "metadata": {
        "id": "bxFEpREAkrH1"
      },
      "execution_count": null,
      "outputs": []
    },
    {
      "cell_type": "code",
      "source": [
        "y_sm = pd.DataFrame(y_sm)\n",
        "\n",
        "# Print the value counts of y_sm\n",
        "print(y_sm.value_counts())\n",
        "\n",
        "# Create the count plot\n",
        "sns.countplot(x=y_sm[0], palette='Blues_d')"
      ],
      "metadata": {
        "colab": {
          "base_uri": "https://localhost:8080/",
          "height": 643
        },
        "id": "EcmV1kA8kAXL",
        "outputId": "6334d54e-c4a7-4709-a306-6b6b624d8c59"
      },
      "execution_count": null,
      "outputs": [
        {
          "output_type": "stream",
          "name": "stdout",
          "text": [
            "0    205836\n",
            "1    205836\n",
            "2    205836\n",
            "Name: count, dtype: int64\n"
          ]
        },
        {
          "output_type": "stream",
          "name": "stderr",
          "text": [
            "<ipython-input-23-14fe8e2f51a0>:7: FutureWarning: \n",
            "\n",
            "Passing `palette` without assigning `hue` is deprecated and will be removed in v0.14.0. Assign the `x` variable to `hue` and set `legend=False` for the same effect.\n",
            "\n",
            "  sns.countplot(x=y_sm[0], palette='Blues_d')\n"
          ]
        },
        {
          "output_type": "execute_result",
          "data": {
            "text/plain": [
              "<Axes: xlabel='0', ylabel='count'>"
            ]
          },
          "metadata": {},
          "execution_count": 23
        },
        {
          "output_type": "display_data",
          "data": {
            "text/plain": [
              "<Figure size 640x480 with 1 Axes>"
            ],
            "image/png": "[encoded data removed]"
          },
          "metadata": {}
        }
      ]
    },
    {
      "cell_type": "code",
      "source": [
        "import seaborn as sns\n",
        "print(df.machine_status.value_counts())\n",
        "sns.countplot(x='machine_status',data=y_sm,palette='Blues_d');"
      ],
      "metadata": {
        "id": "nb3mq3QaiH_0"
      },
      "execution_count": null,
      "outputs": []
    },
    {
      "cell_type": "code",
      "execution_count": null,
      "metadata": {
        "id": "VWw4hUm8dz0g",
        "colab": {
          "base_uri": "https://localhost:8080/"
        },
        "outputId": "aafd8424-bea1-4492-cc7a-dfb4c04316a1"
      },
      "outputs": [
        {
          "output_type": "stream",
          "name": "stdout",
          "text": [
            "(220320, 50)\n",
            "(220320,)\n"
          ]
        }
      ],
      "source": [
        "print(df.shape)\n",
        "print(y.shape)"
      ]
    },
    {
      "cell_type": "code",
      "execution_count": null,
      "metadata": {
        "id": "M-9aBsFjd7HL",
        "colab": {
          "base_uri": "https://localhost:8080/"
        },
        "outputId": "3bccf1bd-05a5-4a10-88eb-b0f39b793612"
      },
      "outputs": [
        {
          "output_type": "execute_result",
          "data": {
            "text/plain": [
              "0    205836\n",
              "1    205836\n",
              "2    205836\n",
              "Name: count, dtype: int64"
            ]
          },
          "metadata": {},
          "execution_count": 18
        }
      ],
      "source": [
        "y_df=pd.DataFrame(y_sm)\n",
        "y_df.value_counts()"
      ]
    },
    {
      "cell_type": "code",
      "execution_count": null,
      "metadata": {
        "id": "zB2PlHmbeZyJ"
      },
      "outputs": [],
      "source": [
        "x_df=pd.DataFrame(x_sm)"
      ]
    },
    {
      "cell_type": "code",
      "execution_count": null,
      "metadata": {
        "id": "SiV8h2758nLb"
      },
      "outputs": [],
      "source": [
        "from sklearn.model_selection import train_test_split\n",
        "x_train, x_test, y_train, y_test = train_test_split(x_df,y_df, test_size = 0.3,shuffle=True)"
      ]
    },
    {
      "cell_type": "code",
      "execution_count": null,
      "metadata": {
        "id": "XX2mEMD_9YHi",
        "colab": {
          "base_uri": "https://localhost:8080/"
        },
        "outputId": "c8842cdd-0076-4d68-93e5-88b06f173008"
      },
      "outputs": [
        {
          "output_type": "stream",
          "name": "stdout",
          "text": [
            "(432255, 50)\n",
            "(185253, 50)\n",
            "(432255, 1)\n",
            "(185253, 1)\n"
          ]
        }
      ],
      "source": [
        "print(x_train.shape)\n",
        "print(x_test.shape)\n",
        "print(y_train.shape)\n",
        "print(y_test.shape)"
      ]
    },
    {
      "cell_type": "code",
      "execution_count": null,
      "metadata": {
        "id": "EbeL9zB7vZFA",
        "colab": {
          "base_uri": "https://localhost:8080/"
        },
        "outputId": "34564edb-c911-4d9e-cca0-ed4ee2bc6088"
      },
      "outputs": [
        {
          "output_type": "stream",
          "name": "stdout",
          "text": [
            "<class 'pandas.core.frame.DataFrame'>\n",
            "Index: 432255 entries, 147053 to 159057\n",
            "Data columns (total 50 columns):\n",
            " #   Column     Non-Null Count   Dtype  \n",
            "---  ------     --------------   -----  \n",
            " 0   sensor_00  432255 non-null  float64\n",
            " 1   sensor_01  432255 non-null  float64\n",
            " 2   sensor_02  432255 non-null  float64\n",
            " 3   sensor_03  432255 non-null  float64\n",
            " 4   sensor_04  432255 non-null  float64\n",
            " 5   sensor_05  432255 non-null  float64\n",
            " 6   sensor_06  432255 non-null  float64\n",
            " 7   sensor_07  432255 non-null  float64\n",
            " 8   sensor_08  432255 non-null  float64\n",
            " 9   sensor_09  432255 non-null  float64\n",
            " 10  sensor_10  432255 non-null  float64\n",
            " 11  sensor_11  432255 non-null  float64\n",
            " 12  sensor_12  432255 non-null  float64\n",
            " 13  sensor_13  432255 non-null  float64\n",
            " 14  sensor_14  432255 non-null  float64\n",
            " 15  sensor_16  432255 non-null  float64\n",
            " 16  sensor_17  432255 non-null  float64\n",
            " 17  sensor_18  432255 non-null  float64\n",
            " 18  sensor_19  432255 non-null  float64\n",
            " 19  sensor_20  432255 non-null  float64\n",
            " 20  sensor_21  432255 non-null  float64\n",
            " 21  sensor_22  432255 non-null  float64\n",
            " 22  sensor_23  432255 non-null  float64\n",
            " 23  sensor_24  432255 non-null  float64\n",
            " 24  sensor_25  432255 non-null  float64\n",
            " 25  sensor_26  432255 non-null  float64\n",
            " 26  sensor_27  432255 non-null  float64\n",
            " 27  sensor_28  432255 non-null  float64\n",
            " 28  sensor_29  432255 non-null  float64\n",
            " 29  sensor_30  432255 non-null  float64\n",
            " 30  sensor_31  432255 non-null  float64\n",
            " 31  sensor_32  432255 non-null  float64\n",
            " 32  sensor_33  432255 non-null  float64\n",
            " 33  sensor_34  432255 non-null  float64\n",
            " 34  sensor_35  432255 non-null  float64\n",
            " 35  sensor_36  432255 non-null  float64\n",
            " 36  sensor_37  432255 non-null  float64\n",
            " 37  sensor_38  432255 non-null  float64\n",
            " 38  sensor_39  432255 non-null  float64\n",
            " 39  sensor_40  432255 non-null  float64\n",
            " 40  sensor_41  432255 non-null  float64\n",
            " 41  sensor_42  432255 non-null  float64\n",
            " 42  sensor_43  432255 non-null  float64\n",
            " 43  sensor_44  432255 non-null  float64\n",
            " 44  sensor_45  432255 non-null  float64\n",
            " 45  sensor_46  432255 non-null  float64\n",
            " 46  sensor_47  432255 non-null  float64\n",
            " 47  sensor_48  432255 non-null  float64\n",
            " 48  sensor_49  432255 non-null  float64\n",
            " 49  sensor_51  432255 non-null  float64\n",
            "dtypes: float64(50)\n",
            "memory usage: 168.2 MB\n"
          ]
        }
      ],
      "source": [
        "x_train.info()"
      ]
    },
    {
      "cell_type": "code",
      "execution_count": null,
      "metadata": {
        "id": "cJILXEZ0wsiI"
      },
      "outputs": [],
      "source": []
    },
    {
      "cell_type": "code",
      "execution_count": null,
      "metadata": {
        "id": "wIFyB-PL7gzW"
      },
      "outputs": [],
      "source": [
        "from sklearn.ensemble import RandomForestClassifier\n",
        "model = RandomForestClassifier(n_estimators=200, min_samples_split=25, max_depth=14, max_features=10)\n",
        "model.fit(x_train.to_numpy(),y_train.to_numpy())\n"
      ]
    },
    {
      "cell_type": "code",
      "execution_count": null,
      "metadata": {
        "id": "KSABAXKuhHaO"
      },
      "outputs": [],
      "source": [
        "pred=model.predict(x_test)\n",
        "from sklearn import metrics\n",
        "acc_score=metrics.accuracy_score(pred,y_test)"
      ]
    },
    {
      "cell_type": "code",
      "execution_count": null,
      "metadata": {
        "id": "3kQb66beQS09"
      },
      "outputs": [],
      "source": [
        "print(acc_score)"
      ]
    },
    {
      "cell_type": "code",
      "execution_count": null,
      "metadata": {
        "id": "WQRZ2TvziUum"
      },
      "outputs": [],
      "source": [
        "columns=df.columns"
      ]
    },
    {
      "cell_type": "code",
      "execution_count": null,
      "metadata": {
        "id": "23P2l8z-Cwo1"
      },
      "outputs": [],
      "source": [
        "featimp = pd.Series(model.feature_importances_,index=columns).sort_values(ascending=False)\n",
        "print(featimp)"
      ]
    },
    {
      "cell_type": "code",
      "execution_count": null,
      "metadata": {
        "id": "AVOOOpv7MKy9"
      },
      "outputs": [],
      "source": [
        "!pip install xgboost"
      ]
    },
    {
      "cell_type": "code",
      "execution_count": null,
      "metadata": {
        "id": "4TmajrJtXpyx"
      },
      "outputs": [],
      "source": [
        "from sklearn.ensemble import RandomForestClassifier\n",
        "from sklearn.linear_model import LogisticRegression\n",
        "from sklearn.metrics import accuracy_score\n",
        "from xgboost import XGBClassifier"
      ]
    },
    {
      "cell_type": "code",
      "source": [
        "# Selecting only the top 10 columns\n",
        "selected_columns = ['sensor_04', 'sensor_13', 'sensor_10', 'sensor_00', 'sensor_12',\n",
        "                    'sensor_05', 'sensor_11', 'sensor_49', 'sensor_48', 'sensor_28']\n",
        "\n",
        "# Modifying x_train and x_test to include only selected columns\n",
        "x_train_selected = x_train[selected_columns]\n",
        "x_test_selected = x_test[selected_columns]"
      ],
      "metadata": {
        "id": "kHZ8q6Nn0hty"
      },
      "execution_count": null,
      "outputs": []
    },
    {
      "cell_type": "code",
      "source": [
        "print(x_train_selected.iloc[46180])\n",
        "print(y_train.iloc[46180])"
      ],
      "metadata": {
        "colab": {
          "base_uri": "https://localhost:8080/"
        },
        "id": "toUssu3y0kYs",
        "outputId": "d4e00741-6f84-4581-bf86-6fed27c1c0c1"
      },
      "execution_count": null,
      "outputs": [
        {
          "output_type": "stream",
          "name": "stdout",
          "text": [
            "sensor_04    0.000675\n",
            "sensor_13    0.000000\n",
            "sensor_10    0.070291\n",
            "sensor_00    0.963721\n",
            "sensor_12    0.000000\n",
            "sensor_05    1.000000\n",
            "sensor_11    0.090198\n",
            "sensor_49    0.019167\n",
            "sensor_48    0.016216\n",
            "sensor_28    0.669128\n",
            "Name: 590141, dtype: float64\n",
            "0    2\n",
            "Name: 590141, dtype: int64\n"
          ]
        }
      ]
    },
    {
      "cell_type": "code",
      "source": [
        "rf_model_selected = RandomForestClassifier(n_estimators=50,\n",
        "                                          min_samples_split=25,\n",
        "                                          max_depth=10,\n",
        "                                          max_features=8)\n",
        "rf_model_selected.fit(x_train_selected, y_train)\n",
        "rf_pred_selected = rf_model_selected.predict(x_test_selected)\n",
        "rf_accuracy_selected = accuracy_score(y_test, rf_pred_selected)"
      ],
      "metadata": {
        "colab": {
          "base_uri": "https://localhost:8080/"
        },
        "id": "8yiaCgiO1wU7",
        "outputId": "51f7e3f8-14c2-42c8-b417-a3d1f766a2c8"
      },
      "execution_count": null,
      "outputs": [
        {
          "output_type": "stream",
          "name": "stderr",
          "text": [
            "<ipython-input-31-eb330e14d8de>:5: DataConversionWarning: A column-vector y was passed when a 1d array was expected. Please change the shape of y to (n_samples,), for example using ravel().\n",
            "  rf_model_selected.fit(x_train_selected, y_train)\n"
          ]
        }
      ]
    },
    {
      "cell_type": "code",
      "source": [
        "sensor_values = np.array([[0.000675, 0.000005, 0.070290, 0.963720, 0.000005, 1.000000, 0.090200, 0.019170, 0.016215, 0.669130]])\n",
        "rf_pred_selected = rf_model_selected.predict(sensor_values)\n",
        "\n",
        "# Print the predicted class\n",
        "print(\"Predicted class:\", rf_pred_selected)"
      ],
      "metadata": {
        "colab": {
          "base_uri": "https://localhost:8080/"
        },
        "id": "aRFEr6q71405",
        "outputId": "924f1030-9f16-4b93-813c-f37943f414b9"
      },
      "execution_count": null,
      "outputs": [
        {
          "output_type": "stream",
          "name": "stdout",
          "text": [
            "Predicted class: [2]\n"
          ]
        },
        {
          "output_type": "stream",
          "name": "stderr",
          "text": [
            "/usr/local/lib/python3.10/dist-packages/sklearn/base.py:439: UserWarning: X does not have valid feature names, but RandomForestClassifier was fitted with feature names\n",
            "  warnings.warn(\n"
          ]
        }
      ]
    },
    {
      "cell_type": "code",
      "source": [
        "sensor_values = np.array([[[0.000675, 0.00001,0.07029,0.96372,0.00001,1.0000, 0.0902, 0.019,0.016215,0.66913 ]]])\n",
        "rf_pred_selected = rf_model_selected.predict(sensor_values)\n",
        "\n",
        "# Print the predicted class\n",
        "print(\"Predicted class:\", rf_pred_selected)"
      ],
      "metadata": {
        "id": "-eZIlxSyMGno"
      },
      "execution_count": null,
      "outputs": []
    },
    {
      "cell_type": "code",
      "execution_count": null,
      "metadata": {
        "id": "67pcI33AROWL"
      },
      "outputs": [],
      "source": [
        "\n",
        "\n",
        "\n",
        "# Now, train the models using these modified datasets\n",
        "\n",
        "# RandomForestClassifier\n",
        "\n",
        "\n",
        "\n",
        "# XGBoost Classifier\n",
        "xgb_model_selected = XGBClassifier(n_estimators=200,\n",
        "                                  max_depth=14,\n",
        "                                  learning_rate=0.1,\n",
        "                                  subsample=0.8,\n",
        "                                  colsample_bytree=0.8,\n",
        "                                  objective='multi:softmax',\n",
        "                                  num_class=len(np.unique(y_train)))\n",
        "xgb_model_selected.fit(x_train_selected, y_train)\n",
        "xgb_pred_selected = xgb_model_selected.predict(x_test_selected)\n",
        "xgb_accuracy_selected =accuracy_score(y_test, xgb_pred_selected)\n",
        "\n",
        "# Logistic Regression Multi-class Classifier\n",
        "log_reg_model_selected = LogisticRegression(max_iter=1000)\n",
        "log_reg_model_selected.fit(x_train_selected, y_train)\n",
        "log_reg_pred_selected = log_reg_model_selected.predict(x_test_selected)\n",
        "log_reg_accuracy_selected = accuracy_score(y_test, log_reg_pred_selected)\n",
        "\n",
        "# Print accuracies for models trained on selected columns\n",
        "print(\"RandomForestClassifier Accuracy (selected columns):\", rf_accuracy_selected)\n",
        "print(\"XGBoost Classifier Accuracy (selected columns):\", xgb_accuracy_selected)\n",
        "print(\"Logistic Regression Accuracy (selected columns):\", log_reg_accuracy_selected)\n"
      ]
    },
    {
      "cell_type": "code",
      "execution_count": null,
      "metadata": {
        "id": "gmAGvtiFdHm4"
      },
      "outputs": [],
      "source": [
        "from sklearn.svm import SVC\n",
        "from sklearn.neighbors import KNeighborsClassifier\n",
        "from sklearn.tree import DecisionTreeClassifier\n",
        "from sklearn.ensemble import GradientBoostingClassifier\n",
        "from sklearn.naive_bayes import GaussianNB\n",
        "from sklearn.neural_network import MLPClassifier\n",
        "\n",
        "# Support Vector Machine (SVM) Classifier\n",
        "svm_model = SVC()\n",
        "svm_model.fit(x_train_selected, y_train)\n",
        "svm_pred = svm_model.predict(x_test_selected)\n",
        "svm_accuracy = accuracy_score(y_test, svm_pred)\n",
        "\n",
        "# K-Nearest Neighbors (KNN) Classifier\n",
        "knn_model = KNeighborsClassifier()\n",
        "knn_model.fit(x_train_selected, y_train)\n",
        "knn_pred = knn_model.predict(x_test_selected)\n",
        "knn_accuracy = accuracy_score(y_test, knn_pred)\n",
        "\n",
        "# Decision Tree Classifier\n",
        "dt_model = DecisionTreeClassifier()\n",
        "dt_model.fit(x_train_selected, y_train)\n",
        "dt_pred = dt_model.predict(x_test_selected)\n",
        "dt_accuracy = accuracy_score(y_test, dt_pred)\n",
        "\n",
        "# Gradient Boosting Classifier\n",
        "gb_model = GradientBoostingClassifier()\n",
        "gb_model.fit(x_train_selected, y_train)\n",
        "gb_pred = gb_model.predict(x_test_selected)\n",
        "gb_accuracy = accuracy_score(y_test, gb_pred)\n",
        "\n",
        "# Naive Bayes Classifier\n",
        "nb_model = GaussianNB()\n",
        "nb_model.fit(x_train_selected, y_train)\n",
        "nb_pred = nb_model.predict(x_test_selected)\n",
        "nb_accuracy = accuracy_score(y_test, nb_pred)\n",
        "\n",
        "# Neural Network Classifier (MLP)\n",
        "mlp_model = MLPClassifier()\n",
        "mlp_model.fit(x_train_selected, y_train)\n",
        "mlp_pred = mlp_model.predict(x_test_selected)\n",
        "mlp_accuracy = accuracy_score(y_test, mlp_pred)\n",
        "\n",
        "# Print accuracies for additional classifiers\n",
        "print(\"Support Vector Machine (SVM) Accuracy:\", svm_accuracy)\n",
        "print(\"K-Nearest Neighbors (KNN) Accuracy:\", knn_accuracy)\n",
        "print(\"Decision Tree Classifier Accuracy:\", dt_accuracy)\n",
        "print(\"Gradient Boosting Classifier Accuracy:\", gb_accuracy)\n",
        "print(\"Naive Bayes Classifier Accuracy:\", nb_accuracy)\n",
        "print(\"Neural Network (MLP) Classifier Accuracy:\", mlp_accuracy)\n"
      ]
    },
    {
      "cell_type": "code",
      "execution_count": null,
      "metadata": {
        "id": "Z5pCBG9hV5Jg"
      },
      "outputs": [],
      "source": [
        "from sklearn.metrics import recall_score, f1_score, confusion_matrix\n",
        "\n",
        "# Define a function to calculate true negativity\n",
        "def true_negativity(y_true, y_pred):\n",
        "    cm = confusion_matrix(y_true, y_pred)\n",
        "    tn = np.sum(np.diag(cm)) - np.sum(cm, axis=0)  # Sum of diagonal elements - sum of columns\n",
        "    return tn / np.sum(cm)\n",
        "\n",
        "# Calculate metrics for RandomForestClassifier\n",
        "rf_recall_selected = recall_score(y_test, rf_pred_selected, average='weighted')\n",
        "rf_f1_selected = f1_score(y_test, rf_pred_selected, average='weighted')\n",
        "rf_tn_selected = true_negativity(y_test, rf_pred_selected)\n",
        "\n",
        "# Calculate metrics for XGBoost Classifier\n",
        "xgb_recall_selected = recall_score(y_test, xgb_pred_selected, average='weighted')\n",
        "xgb_f1_selected = f1_score(y_test, xgb_pred_selected, average='weighted')\n",
        "xgb_tn_selected = true_negativity(y_test, xgb_pred_selected)\n",
        "\n",
        "# Calculate metrics for Logistic Regression Multi-class Classifier\n",
        "log_reg_recall_selected = recall_score(y_test, log_reg_pred_selected, average='weighted')\n",
        "log_reg_f1_selected = f1_score(y_test, log_reg_pred_selected, average='weighted')\n",
        "log_reg_tn_selected = true_negativity(y_test, log_reg_pred_selected)\n",
        "\n",
        "# Calculate metrics for Support Vector Machine (SVM) Classifier\n",
        "svm_recall = recall_score(y_test, svm_pred, average='weighted')\n",
        "svm_f1 = f1_score(y_test, svm_pred, average='weighted')\n",
        "svm_tn = true_negativity(y_test, svm_pred)\n",
        "\n",
        "# Calculate metrics for K-Nearest Neighbors (KNN) Classifier\n",
        "knn_recall = recall_score(y_test, knn_pred, average='weighted')\n",
        "knn_f1 = f1_score(y_test, knn_pred, average='weighted')\n",
        "knn_tn = true_negativity(y_test, knn_pred)\n",
        "\n",
        "# Calculate metrics for Decision Tree Classifier\n",
        "dt_recall = recall_score(y_test, dt_pred, average='weighted')\n",
        "dt_f1 = f1_score(y_test, dt_pred, average='weighted')\n",
        "dt_tn = true_negativity(y_test, dt_pred)\n",
        "\n",
        "# Calculate metrics for Gradient Boosting Classifier\n",
        "gb_recall = recall_score(y_test, gb_pred, average='weighted')\n",
        "gb_f1 = f1_score(y_test, gb_pred, average='weighted')\n",
        "gb_tn = true_negativity(y_test, gb_pred)\n",
        "\n",
        "# Calculate metrics for Naive Bayes Classifier\n",
        "nb_recall = recall_score(y_test, nb_pred, average='weighted')\n",
        "nb_f1 = f1_score(y_test, nb_pred, average='weighted')\n",
        "nb_tn = true_negativity(y_test, nb_pred)\n",
        "\n",
        "# Calculate metrics for Neural Network (MLP) Classifier\n",
        "mlp_recall = recall_score(y_test, mlp_pred, average='weighted')\n",
        "mlp_f1 = f1_score(y_test, mlp_pred, average='weighted')\n",
        "mlp_tn = true_negativity(y_test, mlp_pred)\n",
        "\n",
        "# Create a table for various metrics\n",
        "import pandas as pd\n",
        "\n",
        "metrics_table = pd.DataFrame({\n",
        "    'Classifier': ['RandomForest', 'XGBoost', 'Logistic Regression', 'SVM', 'KNN',\n",
        "                   'Decision Tree', 'Gradient Boosting', 'Naive Bayes', 'Neural Network (MLP)'],\n",
        "    'Accuracy': [rf_accuracy_selected, xgb_accuracy_selected, log_reg_accuracy_selected,\n",
        "                 svm_accuracy, knn_accuracy, dt_accuracy, gb_accuracy, nb_accuracy, mlp_accuracy],\n",
        "    'Recall': [rf_recall_selected, xgb_recall_selected, log_reg_recall_selected,\n",
        "               svm_recall, knn_recall, dt_recall, gb_recall, nb_recall, mlp_recall],\n",
        "    'F1 Score': [rf_f1_selected, xgb_f1_selected, log_reg_f1_selected,\n",
        "                 svm_f1, knn_f1, dt_f1, gb_f1, nb_f1, mlp_f1],\n",
        "    'True Negativity': [rf_tn_selected, xgb_tn_selected, log_reg_tn_selected,\n",
        "                        svm_tn, knn_tn, dt_tn, gb_tn, nb_tn, mlp_tn]\n",
        "})\n",
        "\n",
        "print(metrics_table)\n"
      ]
    },
    {
      "cell_type": "code",
      "execution_count": null,
      "metadata": {
        "id": "uFMZU509XDrF"
      },
      "outputs": [],
      "source": [
        "import numpy as np\n",
        "import matplotlib.pyplot as plt\n",
        "import seaborn as sns\n",
        "from sklearn.metrics import confusion_matrix\n",
        "import itertools  # Import itertools module\n",
        "\n",
        "\n",
        "# Define function to plot confusion matrix\n",
        "def plot_confusion_matrix(cm, classes, normalize=False, cmap=plt.cm.Blues):\n",
        "    \"\"\"\n",
        "    This function prints and plots the confusion matrix.\n",
        "    Normalization can be applied by setting `normalize=True`.\n",
        "    \"\"\"\n",
        "    if normalize:\n",
        "        cm = cm.astype('float') / cm.sum(axis=1)[:, np.newaxis]\n",
        "        title = 'Normalized Confusion Matrix'\n",
        "    else:\n",
        "        title = 'Confusion Matrix'\n",
        "\n",
        "    plt.figure(figsize=(8, 6))\n",
        "    plt.imshow(cm, interpolation='nearest', cmap=cmap)\n",
        "    plt.title(title)\n",
        "    plt.colorbar()\n",
        "\n",
        "    tick_marks = np.arange(len(classes))\n",
        "    plt.xticks(tick_marks, classes, rotation=45)\n",
        "    plt.yticks(tick_marks, classes)\n",
        "\n",
        "    fmt = '.2f' if normalize else 'd'\n",
        "    thresh = cm.max() / 2.\n",
        "    for i, j in itertools.product(range(cm.shape[0]), range(cm.shape[1])):\n",
        "        plt.text(j, i, format(cm[i, j], fmt),\n",
        "                 horizontalalignment=\"center\",\n",
        "                 color=\"white\" if cm[i, j] > thresh else \"black\")\n",
        "\n",
        "    plt.tight_layout()\n",
        "    plt.ylabel('True label')\n",
        "    plt.xlabel('Predicted label')\n",
        "\n",
        "# Calculate confusion matrix for RandomForestClassifier\n",
        "rf_cm = confusion_matrix(y_test, rf_pred_selected)\n",
        "plt.figure()\n",
        "plot_confusion_matrix(rf_cm, classes=np.unique(y_test), normalize=True\n",
        "        )\n",
        "\n",
        "# Calculate confusion matrix for XGBoost Classifier\n",
        "xgb_cm = confusion_matrix(y_test, xgb_pred_selected)\n",
        "plt.figure()\n",
        "plot_confusion_matrix(xgb_cm, classes=np.unique(y_test), normalize=True\n",
        "                     )\n",
        "\n",
        "# Calculate confusion matrix for Logistic Regression Multi-class Classifier\n",
        "log_reg_cm = confusion_matrix(y_test, log_reg_pred_selected)\n",
        "plt.figure()\n",
        "plot_confusion_matrix(log_reg_cm, classes=np.unique(y_test), normalize=True\n",
        "                      )\n",
        "\n",
        "plt.show()\n"
      ]
    },
    {
      "cell_type": "code",
      "execution_count": null,
      "metadata": {
        "id": "0MU949xgYCP1"
      },
      "outputs": [],
      "source": [
        "svm_cm = confusion_matrix(y_test, svm_pred)\n",
        "plt.figure()\n",
        "plot_confusion_matrix(svm_cm, classes=np.unique(y_test))\n",
        "\n",
        "\n",
        "# Calculate confusion matrix for K-Nearest Neighbors (KNN) Classifier\n",
        "knn_cm = confusion_matrix(y_test, knn_pred)\n",
        "plt.figure()\n",
        "plot_confusion_matrix(knn_cm, classes=np.unique(y_test))\n",
        "\n",
        "# Calculate confusion matrix for Decision Tree Classifier\n",
        "dt_cm = confusion_matrix(y_test, dt_pred)\n",
        "plt.figure()\n",
        "plot_confusion_matrix(dt_cm, classes=np.unique(y_test))\n",
        "\n",
        "\n",
        "# Calculate confusion matrix for Gradient Boosting Classifier\n",
        "gb_cm = confusion_matrix(y_test, gb_pred)\n",
        "plt.figure()\n",
        "plot_confusion_matrix(gb_cm, classes=np.unique(y_test))\n",
        "\n",
        "\n",
        "# Calculate confusion matrix for Naive Bayes Classifier\n",
        "nb_cm = confusion_matrix(y_test, nb_pred)\n",
        "plt.figure()\n",
        "plot_confusion_matrix(nb_cm, classes=np.unique(y_test))\n",
        "\n",
        "\n",
        "# Calculate confusion matrix for Neural Network (MLP) Classifier\n",
        "mlp_cm = confusion_matrix(y_test, mlp_pred)\n",
        "plt.figure()\n",
        "plot_confusion_matrix(mlp_cm, classes=np.unique(y_test))\n",
        "\n",
        "plt.show()"
      ]
    },
    {
      "cell_type": "code",
      "execution_count": null,
      "metadata": {
        "id": "4aunSjfmZLOV"
      },
      "outputs": [],
      "source": [
        "import numpy as np\n",
        "import xgboost as xgb\n",
        "from sklearn.metrics import accuracy_score\n",
        "\n",
        "# Assuming x_train, y_train, x_test, y_test are already defined\n",
        "\n",
        "# Define parameters for XGBoost\n",
        "params = {\n",
        "    'objective': 'multi:softmax',\n",
        "    'num_class': len(np.unique(y_train)),\n",
        "    'eval_metric': ['merror']  # Mean classification error for monitoring training performance\n",
        "}\n",
        "\n",
        "# Convert data to XGBoost DMatrix format\n",
        "dtrain = xgb.DMatrix(x_train, label=y_train)\n",
        "dtest = xgb.DMatrix(x_test, label=y_test)\n",
        "\n",
        "# Store evaluation results\n",
        "evals_result = {}\n",
        "\n",
        "# Train the model and monitor performance\n",
        "num_rounds = 100\n",
        "bst = xgb.train(params, dtrain, num_rounds, evals=[(dtrain, 'train'), (dtest, 'test')],\n",
        "                evals_result=evals_result, verbose_eval=True)\n",
        "\n",
        "# Extract training and test error\n",
        "train_error = evals_result['train']['merror']\n",
        "test_error = evals_result['test']['merror']\n",
        "\n",
        "# Plotting\n",
        "import matplotlib.pyplot as plt\n",
        "\n",
        "# Plot training vs test error\n",
        "plt.figure(figsize=(10, 6))\n",
        "plt.plot(range(1, num_rounds + 1), train_error, label='Training Error')\n",
        "plt.plot(range(1, num_rounds + 1), test_error, label='Test Error')\n",
        "plt.xlabel('Number of Rounds')\n",
        "plt.ylabel('Classification Error')\n",
        "plt.title('Training vs Test Error Over Time')\n",
        "plt.legend()\n",
        "plt.show()\n"
      ]
    },
    {
      "cell_type": "code",
      "execution_count": null,
      "metadata": {
        "id": "7-5v-8G5a1__"
      },
      "outputs": [],
      "source": [
        "from sklearn.ensemble import GradientBoostingClassifier\n",
        "from sklearn.metrics import accuracy_score, log_loss\n",
        "import matplotlib.pyplot as plt\n",
        "\n",
        "# Initialize Gradient Boosting classifier\n",
        "gb_model = GradientBoostingClassifier(n_estimators=100)\n",
        "\n",
        "# Lists to store training and validation metrics\n",
        "train_losses = []\n",
        "val_losses = []\n",
        "train_accuracies = []\n",
        "val_accuracies = []\n",
        "\n",
        "# Train the model and monitor performance\n",
        "for i in range(100):\n",
        "    gb_model.fit(x_train_selected, y_train)\n",
        "    train_pred = gb_model.predict(x_train_selected)\n",
        "    val_pred = gb_model.predict(x_test_selected)\n",
        "\n",
        "    train_loss = log_loss(y_train, train_pred)\n",
        "    val_loss = log_loss(y_test, val_pred)\n",
        "    train_accuracy = accuracy_score(y_train, train_pred)\n",
        "    val_accuracy = accuracy_score(y_test, val_pred)\n",
        "\n",
        "    train_losses.append(train_loss)\n",
        "    val_losses.append(val_loss)\n",
        "    train_accuracies.append(train_accuracy)\n",
        "    val_accuracies.append(val_accuracy)\n",
        "\n",
        "# Plotting\n",
        "plt.figure(figsize=(12, 6))\n",
        "\n",
        "# Plot training vs validation loss\n",
        "plt.subplot(1, 2, 1)\n",
        "plt.plot(range(1, 101), train_losses, label='Training Loss')\n",
        "plt.plot(range(1, 101), val_losses, label='Validation Loss')\n",
        "plt.xlabel('Number of Iterations')\n",
        "plt.ylabel('Log Loss')\n",
        "plt.title('Gradient Boosting: Training vs Validation Loss Over Time')\n",
        "plt.legend()\n",
        "\n",
        "# Plot training vs validation accuracy\n",
        "plt.subplot(1, 2, 2)\n",
        "plt.plot(range(1, 101), train_accuracies, label='Training Accuracy')\n",
        "plt.plot(range(1, 101), val_accuracies, label='Validation Accuracy')\n",
        "plt.xlabel('Number of Iterations')\n",
        "plt.ylabel('Accuracy')\n",
        "plt.title('Gradient Boosting: Training vs Validation Accuracy Over Time')\n",
        "plt.legend()\n",
        "\n",
        "plt.tight_layout()\n",
        "plt.show()\n"
      ]
    },
    {
      "cell_type": "code",
      "execution_count": null,
      "metadata": {
        "id": "qDGtbm9da5NY"
      },
      "outputs": [],
      "source": [
        "import numpy as np\n",
        "from keras.models import Sequential\n",
        "from keras.layers import Dense\n",
        "from keras.optimizers import SGD\n",
        "import matplotlib.pyplot as plt\n",
        "\n",
        "# Define the model architecture\n",
        "model = Sequential([\n",
        "    Dense(64, activation='relu', input_shape=(x_train_selected.shape[1],)),\n",
        "    Dense(32, activation='relu'),\n",
        "    Dense(len(np.unique(y_train)), activation='softmax')\n",
        "])\n",
        "\n",
        "# Compile the model\n",
        "model.compile(optimizer=SGD(learning_rate=0.01),\n",
        "              loss='sparse_categorical_crossentropy',\n",
        "              metrics=['accuracy'])\n",
        "\n",
        "# Train the model and monitor performance\n",
        "history = model.fit(x_train_selected, y_train, epochs=100, validation_data=(x_test_selected, y_test), verbose=0)\n",
        "\n",
        "# Extract training and validation loss and accuracy\n",
        "train_losses = history.history['loss']\n",
        "val_losses = history.history['val_loss']\n",
        "train_accuracies = history.history['accuracy']\n",
        "val_accuracies = history.history['val_accuracy']\n",
        "\n",
        "# Plotting\n",
        "plt.figure(figsize=(12, 6))\n",
        "\n",
        "# Plot training vs validation loss\n",
        "plt.subplot(1, 2, 1)\n",
        "plt.plot(range(1, len(train_losses) + 1), train_losses, label='Training Loss')\n",
        "plt.plot(range(1, len(val_losses) + 1), val_losses, label='Validation Loss')\n",
        "plt.xlabel('Epochs')\n",
        "plt.ylabel('Loss')\n",
        "plt.title('Neural Network: Training vs Validation Loss Over Time')\n",
        "plt.legend()\n",
        "\n",
        "# Plot training vs validation accuracy\n",
        "plt.subplot(1, 2, 2)\n",
        "plt.plot(range(1, len(train_accuracies) + 1), train_accuracies, label='Training Accuracy')\n",
        "plt.plot(range(1, len(val_accuracies) + 1), val_accuracies, label='Validation Accuracy')\n",
        "plt.xlabel('Epochs')\n",
        "plt.ylabel('Accuracy')\n",
        "plt.title('Neural Network: Training vs Validation Accuracy Over Time')\n",
        "plt.legend()\n",
        "\n",
        "plt.tight_layout()\n",
        "plt.show()\n"
      ]
    }
  ],
  "metadata": {
    "accelerator": "TPU",
    "colab": {
      "gpuType": "V28",
      "provenance": []
    },
    "kernelspec": {
      "display_name": "Python 3",
      "name": "python3"
    },
    "language_info": {
      "codemirror_mode": {
        "name": "ipython",
        "version": 3
      },
      "file_extension": ".py",
      "mimetype": "text/x-python",
      "name": "python",
      "nbconvert_exporter": "python",
      "pygments_lexer": "ipython3",
      "version": "3.6.4"
    }
  },
  "nbformat": 4,
  "nbformat_minor": 0
}
